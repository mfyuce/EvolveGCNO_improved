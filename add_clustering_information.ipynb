{
 "cells": [
  {
   "cell_type": "code",
   "execution_count": 1,
   "metadata": {},
   "outputs": [
    {
     "data": {
      "text/plain": [
       "('imported_data/BurST-ADMA_v0.1.csv',\n",
       " <http.client.HTTPMessage at 0x7f4be9136c60>)"
      ]
     },
     "execution_count": 1,
     "metadata": {},
     "output_type": "execute_result"
    }
   ],
   "source": [
    "# Download BurST-ADMA\n",
    "import urllib.request\n",
    "urllib.request.urlretrieve(\"https://raw.githubusercontent.com/ahzam-a/BurST-ADMA/main/BurST-ADMA_v0.1.csv\", \"imported_data/BurST-ADMA_v0.1.csv\")"
   ]
  },
  {
   "cell_type": "code",
   "execution_count": 2,
   "metadata": {},
   "outputs": [
    {
     "name": "stdout",
     "output_type": "stream",
     "text": [
      "                 x          y\n",
      "0       145.098864 -37.862205\n",
      "1       145.130795 -37.859405\n",
      "2       145.107735 -37.854756\n",
      "3       145.112993 -37.855362\n",
      "4       109.316641 -37.842177\n",
      "...            ...        ...\n",
      "207310  145.126904 -37.851541\n",
      "207311  145.119840 -37.851621\n",
      "207312  145.118262 -37.850294\n",
      "207313  145.120179 -37.841157\n",
      "207314  145.109522 -37.847132\n",
      "\n",
      "[207315 rows x 2 columns]\n",
      "['timestep' 'id' 'x' 'y' 'heading' 'speed' 'acceleration' 'label']\n"
     ]
    }
   ],
   "source": [
    "\n",
    "MAX_CLUSTERS = 10\n",
    "OUTPUT_EACH_CLUSTER = False\n",
    "import math\n",
    "import pandas\n",
    "with open(\"imported_data/BurST-ADMA_v0.1.csv\", 'r') as csvfile:\n",
    "    df = pandas.read_csv(csvfile)\n",
    " # The names of all the columns in the data.\n",
    "\n",
    "distance_columns = ['x', 'y']\n",
    "\n",
    "\n",
    "y = df['label']\n",
    "X_df = df.drop(['label'], axis = 1)\n",
    "X_df.head\n",
    "\n",
    "X = X_df[distance_columns] \n",
    "print(X)\n",
    "print(df.columns.values)\n",
    "\n"
   ]
  },
  {
   "cell_type": "code",
   "execution_count": 5,
   "metadata": {},
   "outputs": [
    {
     "name": "stdout",
     "output_type": "stream",
     "text": [
      "biggest timestep: 308\n",
      "min timestep: 5\n"
     ]
    },
    {
     "name": "stderr",
     "output_type": "stream",
     "text": [
      "100%|██████████| 1000/1000 [00:05<00:00, 171.25it/s]"
     ]
    },
    {
     "name": "stdout",
     "output_type": "stream",
     "text": [
      "max_size:308, max_size_ts:(968.0,)\n"
     ]
    },
    {
     "name": "stderr",
     "output_type": "stream",
     "text": [
      "\n"
     ]
    }
   ],
   "source": [
    "%matplotlib inline\n",
    "import matplotlib.pyplot as plt\n",
    "import seaborn as sns\n",
    "import numpy as np\n",
    "from sklearn.datasets import make_blobs\n",
    "from sklearn.cluster import KMeans\n",
    "from matplotlib.widgets import SpanSelector\n",
    "from tqdm import tqdm\n",
    "\n",
    "import ipywidgets as widgets\n",
    "from ipywidgets import interact, interact_manual\n",
    "\n",
    "import os\n",
    "os.remove(\"data/myoutput.csv\")\n",
    "\n",
    "plt.ion()\n",
    "\n",
    "print(f\"biggest timestep: {df.groupby(['timestep'])['timestep'].count().max()}\") \n",
    "print(f\"min timestep: {df.groupby(['timestep'])['timestep'].count().min()}\") \n",
    "gb = df.groupby(['timestep'])\n",
    "headers_put = False\n",
    "max_size_ts = 0\n",
    "max_size = 0\n",
    "for name, group in tqdm(gb):\n",
    "    l = len(group)\n",
    "    # print(f\"{name} timestep\")\n",
    "    n_cl = min(int((l/3)+1),MAX_CLUSTERS)\n",
    "    # print(n_cl)\n",
    "    kmeans = KMeans(n_clusters=n_cl, random_state=0, n_init='auto')\n",
    "    #build the model, based on X with the number of clusters defined above\n",
    "    kmeans.fit(group[distance_columns])\n",
    "    #now we're going to find clusters in the randomly generated dataset\n",
    "    predict = kmeans.predict(group[distance_columns])\n",
    "    group.insert(0,'cls', predict)\n",
    "    if OUTPUT_EACH_CLUSTER:\n",
    "        group.to_csv(f\"data/myoutput_{name}.csv\")\n",
    "    group.to_csv(f\"data/myoutput.csv\", mode='a', header=not headers_put)\n",
    "    headers_put=True\n",
    "    if max_size < l :\n",
    "        max_size = l\n",
    "        max_size_ts = name\n",
    "    if name == 968: #name > 989  or \n",
    "        print(name)\n",
    "        tmp = group[group['x'] > 120]\n",
    "        predict_tmp = kmeans.predict(tmp[distance_columns])\n",
    "        plt.scatter(tmp['x'], tmp['y'], c=predict_tmp, s=10)\n",
    "        plt.show()\n",
    "print (f\"max_size:{max_size}, max_size_ts:{max_size_ts}\")"
   ]
  }
 ],
 "metadata": {
  "kernelspec": {
   "display_name": "Python 3 (ipykernel)",
   "language": "python",
   "name": "python3"
  },
  "language_info": {
   "codemirror_mode": {
    "name": "ipython",
    "version": 3
   },
   "file_extension": ".py",
   "mimetype": "text/x-python",
   "name": "python",
   "nbconvert_exporter": "python",
   "pygments_lexer": "ipython3",
   "version": "3.12.0"
  },
  "vscode": {
   "interpreter": {
    "hash": "59255c12bbc7ee089e79cf1995bbe093900e05a221aed574fff0bbbb7cccb4c3"
   }
  }
 },
 "nbformat": 4,
 "nbformat_minor": 2
}
